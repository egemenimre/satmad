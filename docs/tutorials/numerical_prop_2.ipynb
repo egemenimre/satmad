{
 "cells": [
  {
   "cell_type": "markdown",
   "metadata": {
    "collapsed": true,
    "pycharm": {
     "name": "#%% md\n"
    }
   },
   "source": [
    "# Numerical Orbit Propagation - Part 2\n",
    "\n",
    "Continuing from the previous tutorial on [Earth-bound numerical orbit propagation](numerical_prop_1.ipynb),\n",
    "this tutorial introduces two concepts:\n",
    "\n",
    "1.  Propagating an orbit around the Moon\n",
    "2.  Propagating an orbit around the Saturn\n",
    "\n",
    "While propagation itself does not differ from the Earth-bound case, each of them is slightly different in the coordinate frames used in the propagation.\n",
    "\n",
    "## Propagating an Orbit around the Moon\n",
    "\n",
    "For a propagation around the Moon, the procedure is very similar to the Earth-bound case. The first step is to initialise the orbit. Note that the orbit is initialised in the Lunar inertial coordinate frame `MoonCRS`. This frame is provided by `SatMAD`."
   ]
  },
  {
   "cell_type": "code",
   "execution_count": 15,
   "outputs": [
    {
     "name": "stdout",
     "output_type": "stream",
     "text": [
      "<SkyCoord (MoonCRS: obstime=2020-01-01T11:00:00.000): (x, y, z) in km\n",
      "    (1000., 1000., 2000.)\n",
      " (v_x, v_y, v_z) in km / s\n",
      "    (1., -1., 0.6)>\n"
     ]
    }
   ],
   "source": [
    "from astropy import units as u\n",
    "from astropy.coordinates import CartesianDifferential, CartesianRepresentation\n",
    "from astropy.time import Time\n",
    "from satmad.coordinates.frames import init_pvt, MoonCRS, CelestialBodyCRS\n",
    "from satmad.core.celestial_bodies_lib import MOON\n",
    "from satmad.core.celestial_body import CelestialBody\n",
    "\n",
    "from satmad.propagation.numerical_propagators import NumericalPropagator\n",
    "from satmad.utils.timeinterval import TimeInterval\n",
    "\n",
    "# Initialises a Moon low-altitude satellite.\n",
    "time_moon = Time(\"2020-01-01T11:00:00.000\", scale=\"utc\")\n",
    "\n",
    "v_moon_crs = CartesianDifferential([1, -1, 0.6], unit=u.km / u.s)\n",
    "r_moon_crs = CartesianRepresentation([1000, 1000, 2000], unit=u.km)\n",
    "rv_moon_crs = init_pvt(MoonCRS, time_moon, r_moon_crs, v_moon_crs)\n",
    "\n",
    "print(rv_moon_crs)"
   ],
   "metadata": {
    "collapsed": false,
    "pycharm": {
     "name": "#%%\n"
    }
   }
  },
  {
   "cell_type": "markdown",
   "source": [
    "The second step is to initialise the numerical propagator around Moon. Note that, the central body is given explicitly as `MOON`. This is a [\"CelestialBody\" object](../core/celestial_bodies.md) and a number of default Celestial Bodies are already provided (such as `EARTH` and `MOON`) in the [\"celestial_bodies\" module](../core/celestial_bodies.md)."
   ],
   "metadata": {
    "collapsed": false
   }
  },
  {
   "cell_type": "code",
   "execution_count": 16,
   "outputs": [],
   "source": [
    "# propagation config params\n",
    "output_stepsize = 60 * u.s\n",
    "\n",
    "# init propagator\n",
    "prop_moon = NumericalPropagator(\n",
    "    output_stepsize,\n",
    "    rtol=1e-12,\n",
    "    atol=1e-14,\n",
    "    central_body=MOON\n",
    ")"
   ],
   "metadata": {
    "collapsed": false,
    "pycharm": {
     "name": "#%%\n"
    }
   }
  },
  {
   "cell_type": "markdown",
   "source": [
    "The final step is to propagate the orbit. This is not any different from propagation around the Earth."
   ],
   "metadata": {
    "collapsed": false
   }
  },
  {
   "cell_type": "code",
   "execution_count": 17,
   "outputs": [
    {
     "name": "stdout",
     "output_type": "stream",
     "text": [
      "Trajectory from 2020-01-01T23:00:00.000 to 2020-01-04T23:00:00.000 in frame mooncrs. (Interpolators initialised: False)\n",
      "Coords at time 2020-01-02T01:57:46.080:\n",
      "<SkyCoord (MoonCRS: obstime=2020-01-02T01:57:46.080): (x, y, z) in km\n",
      "    (-1176.05184748, -996.4101513, -2226.35450763)\n",
      " (v_x, v_y, v_z) in km / s\n",
      "    (-0.48262601, 1.29170032, 0.27677641)>\n"
     ]
    }
   ],
   "source": [
    "#propagation run params\n",
    "prop_duration = 3 * u.day\n",
    "prop_start = rv_moon_crs.obstime + 0.5 * u.day\n",
    "\n",
    "# run propagation\n",
    "trajectory_moon = prop_moon.gen_trajectory(rv_moon_crs, TimeInterval(prop_start, prop_duration))\n",
    "\n",
    "print(trajectory_moon)\n",
    "\n",
    "print(f\"Coords at time {prop_start + 0.12345 * u.day}:\\n{trajectory_moon(prop_start + 0.12345 * u.day)}\")"
   ],
   "metadata": {
    "collapsed": false,
    "pycharm": {
     "name": "#%%\n"
    }
   }
  },
  {
   "cell_type": "markdown",
   "source": [
    "## Propagating an Orbit around the Saturn\n",
    "\n",
    "The last example is doing the same procedure for Saturn. However, Saturn is not one of the default objects made available by SatMAD. So we will have to create the `SATURN` object and the `SaturnCRS`, the Saturn Celestial Reference Frame."
   ],
   "metadata": {
    "collapsed": false
   }
  },
  {
   "cell_type": "code",
   "execution_count": 18,
   "outputs": [],
   "source": [
    "class SaturnCRS(CelestialBodyCRS):\n",
    "    \"\"\"Saturn Celestial Reference System. This is simply the ICRS shifted to the\n",
    "    centre of the Saturn.\"\"\"\n",
    "\n",
    "    body = \"Saturn\"\n",
    "    ephemeris_type = \"builtin\"\n",
    "\n",
    "SATURN = CelestialBody(\n",
    "    \"Saturn\",\n",
    "    \"User Generated Saturn Model.\",\n",
    "    3.7931187E16 * u.m ** 3 / u.s ** 2,\n",
    "    inert_coord=SaturnCRS,\n",
    ")"
   ],
   "metadata": {
    "collapsed": false,
    "pycharm": {
     "name": "#%%\n"
    }
   }
  },
  {
   "cell_type": "markdown",
   "source": [
    "It is important to note that, the name \"Saturn\" defined in the Celestial Reference Frame (CRS) definition can only be a Solar System Body, given in the list `solar_system_ephemeris.bodies`. This ensures that the planet is recognised, its coordinates are computed and coordinate transformations from another (e.g. Heliocentric) coordinate system can be properly computed. Also note that the `ephemeris_type` is set to `builtin`. This uses the builtin models found in Astropy, which are accurate enough for most applications. It is possible to set this to `jpl` for the default internal implementation of the current JPL model (e.g. DE430), but this may download a very large file the first time it is called.\n",
    "\n",
    "Now that coordinate systems are initialised, we can generate the initial conditions using the `SaturnCRS` coordinate system."
   ],
   "metadata": {
    "collapsed": false
   }
  },
  {
   "cell_type": "code",
   "source": [
    "# Initialises a Saturn-based satellite.\n",
    "time_saturn = Time(\"2018-01-01T11:00:00.000\", scale=\"utc\")\n",
    "\n",
    "v_saturn_crs = CartesianDifferential([7, 26, 0.5], unit=u.km / u.s)\n",
    "r_saturn_crs = CartesianRepresentation([2000, 10000, 70000], unit=u.km)\n",
    "rv_saturn_crs = init_pvt(SaturnCRS, time_saturn, r_saturn_crs, v_saturn_crs)\n",
    "\n",
    "print(rv_saturn_crs)"
   ],
   "metadata": {
    "collapsed": false,
    "pycharm": {
     "name": "#%%\n"
    }
   },
   "execution_count": 19,
   "outputs": [
    {
     "name": "stdout",
     "output_type": "stream",
     "text": [
      "<SkyCoord (SaturnCRS: obstime=2018-01-01T11:00:00.000): (x, y, z) in km\n",
      "    (2000., 10000., 70000.)\n",
      " (v_x, v_y, v_z) in km / s\n",
      "    (7., 26., 0.5)>\n"
     ]
    }
   ]
  },
  {
   "cell_type": "markdown",
   "source": [
    "The next step is to initialise the numerical propagator around Saturn. Note that, the central body is given explicitly as `SATURN`, which is the `CelestialBody` object defined above. This time we initialise with higher tolerance values, but feel free to experiment."
   ],
   "metadata": {
    "collapsed": false
   }
  },
  {
   "cell_type": "code",
   "execution_count": 20,
   "outputs": [],
   "source": [
    "# propagation config params\n",
    "output_stepsize = 120 * u.s\n",
    "\n",
    "# init propagator\n",
    "prop_saturn = NumericalPropagator(\n",
    "    output_stepsize,\n",
    "    rtol=1e-10,\n",
    "    atol=1e-11,\n",
    "    central_body=SATURN\n",
    ")"
   ],
   "metadata": {
    "collapsed": false,
    "pycharm": {
     "name": "#%%\n"
    }
   }
  },
  {
   "cell_type": "markdown",
   "source": [
    "The final step is to propagate the orbit. Once again, this is not any different from propagation around the Saturn."
   ],
   "metadata": {
    "collapsed": false
   }
  },
  {
   "cell_type": "code",
   "execution_count": 21,
   "outputs": [
    {
     "name": "stdout",
     "output_type": "stream",
     "text": [
      "Trajectory from 2018-01-01T23:00:00.000 to 2018-01-02T23:00:00.000 in frame saturncrs. (Interpolators initialised: False)\n",
      "Coords at time 2018-01-02T09:52:37.344:\n",
      "<SkyCoord (SaturnCRS: obstime=2018-01-02T09:52:37.344): (x, y, z) in km\n",
      "    (16560.67147392, 63478.96515132, 54644.17965665)\n",
      " (v_x, v_y, v_z) in km / s\n",
      "    (5.2815623, 19.15792542, -12.10055772)>\n"
     ]
    }
   ],
   "source": [
    "#propagation run params\n",
    "prop_duration = 1 * u.day\n",
    "prop_start = rv_saturn_crs.obstime + 0.5 * u.day\n",
    "\n",
    "# run propagation\n",
    "trajectory_saturn = prop_saturn.gen_trajectory(rv_saturn_crs, TimeInterval(prop_start, prop_duration))\n",
    "\n",
    "print(trajectory_saturn)\n",
    "\n",
    "print(f\"Coords at time {prop_start + 0.45321 * u.day}:\\n{trajectory_saturn(prop_start + 0.45321 * u.day)}\")\n",
    "\n"
   ],
   "metadata": {
    "collapsed": false,
    "pycharm": {
     "name": "#%%\n"
    }
   }
  }
 ],
 "metadata": {
  "kernelspec": {
   "display_name": "Python 3",
   "language": "python",
   "name": "python3"
  },
  "language_info": {
   "codemirror_mode": {
    "name": "ipython",
    "version": 2
   },
   "file_extension": ".py",
   "mimetype": "text/x-python",
   "name": "python",
   "nbconvert_exporter": "python",
   "pygments_lexer": "ipython2",
   "version": "2.7.6"
  }
 },
 "nbformat": 4,
 "nbformat_minor": 0
}