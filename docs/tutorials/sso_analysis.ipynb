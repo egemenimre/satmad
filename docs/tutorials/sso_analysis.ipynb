{
 "cells": [
  {
   "cell_type": "markdown",
   "source": [
    "# Getting Familiarised with the TLE object: Analysis of a Repeating Sun-Synchronous Orbit\n",
    "\n",
    "Many Earth observation satellites at Low Earth Orbit (LEO) are in\n",
    "[Sun-Synchronous Orbit](https://en.wikipedia.org/wiki/Sun-synchronous_orbit), where the orbital\n",
    "plane of the satellite keeps a fixed (or changing around a mean) orientation with respect to the sun.\n",
    "This enables the satellite to keep a predictable sun-Earth-satellite orientation, increasing the\n",
    "data production quality. Some of these satellites also keep the orbit in such a way that the satellite\n",
    "[ground-track](https://en.wikipedia.org/wiki/Ground_track) repeats a certain pattern. Some are even in\n",
    "[Frozen Orbits](https://en.wikipedia.org/wiki/Frozen_orbit), where the eccentricity vector (or\n",
    "argument of perigee value is fixed). This enables the satellite to have a fixed (and known) altitude over a\n",
    "given latitude. All of these properties enable the satellite orbit (hence observation conditions as well as\n",
    "mission planning) to be predictable over the course of the mission lifetime.\n",
    "\n",
    "[European Space Agency's Sentinel-2A](https://www.esa.int/Applications/Observing_the_Earth/Copernicus/Sentinel-2)\n",
    "optical earth observation satellite is an example of missions utilising such orbits. It is possible to\n",
    "observe these orbital characteristics from their orbital elements.\n",
    "\n",
    "The up-to-date orbital elements of Sentinel-2A can be retrieved from\n",
    "[Celestrak website](https://celestrak.com/satcat/tle.php?CATNR=40697). The orbital elements are in\n",
    "[Two-Line-Element format](https://celestrak.com/NORAD/documentation/tle-fmt.php).\n",
    "\n",
    "The first step of the analysis is to read the orbital elements to a TLE object."
   ],
   "metadata": {
    "collapsed": false
   }
  },
  {
   "cell_type": "code",
   "execution_count": 8,
   "outputs": [
    {
     "name": "stdout",
     "output_type": "stream",
     "text": [
      "Sentinel-2A true semimajor axis: 7167.136364515168 km\n"
     ]
    }
   ],
   "source": [
    "from satmad.propagation.tle import TLE\n",
    "\n",
    "line1 = \"1 40697U 15028A   20164.50828565  .00000010  00000-0  20594-4 0  9999\"\n",
    "line2 = \"2 40697  98.5692 238.8182 0001206  86.9662 273.1664 14.30818200259759\"\n",
    "tle = TLE.from_tle(line1, line2, \"Sentinel 2A\")\n",
    "\n",
    "print(f\"Sentinel-2A true semimajor axis: {tle.sm_axis}\")"
   ],
   "metadata": {
    "collapsed": false,
    "pycharm": {
     "name": "#%%\n"
    }
   }
  },
  {
   "cell_type": "markdown",
   "source": [
    "Unlike ideal (and unrealistic) two-body dynamics, orbital planes of the satellites rotate due to the\n",
    "primary term of the oblateness of the Earth, or $J_2$ in orbital mechanics parlance. Sun-synchronous orbits\n",
    "are designed to fix that rotation rate to one full rotation per year i.e, this rotation has a period of\n",
    "exactly one year. This keeps the orientation of the orbital plane (ideally) at a fixed angle to the Sun.\n",
    "Therefore, the rate of rotation of the orbital plane (or the node) should be equal to:\n",
    "\n",
    "$$ \\frac{360 \\deg}{365.25 \\text{ days}} = 0.9856262833675564 \\deg / \\text{day}$$\n",
    "\n",
    "Coming back to the orbit of Sentinel-2A, once the orbital elements are read, it is possible to query the\n",
    "node rotation rate using the command `node_rotation_rate()`."
   ],
   "metadata": {
    "collapsed": false
   }
  },
  {
   "cell_type": "code",
   "execution_count": 9,
   "outputs": [
    {
     "name": "stdout",
     "output_type": "stream",
     "text": [
      "Sentinel-2A true node rotation rate: 0.9870658041317965 deg / d\n"
     ]
    }
   ],
   "source": [
    "print(f\"Sentinel-2A true node rotation rate: {tle.node_rotation_rate}\")"
   ],
   "metadata": {
    "collapsed": false,
    "pycharm": {
     "name": "#%%\n"
    }
   }
  },
  {
   "cell_type": "markdown",
   "source": [
    "As expected, the node rotation rate of Sentinel-2A is very close to (but not exactly equal to) the ideal\n",
    "node rotation rate. In reality, the node rotation rate depends on other forces (like drag and other\n",
    "geopotential terms) and Sentinel-2 orbit is maintained with high accuracy, executing orbit maintenance\n",
    "manoeuvres periodically.\n",
    "\n",
    "It should also be emphasised the TLE orbit parameters are not the high precision values supplied by ESA, but\n",
    "are the measurements from the US Space Surveillance Network and distributed by the\n",
    "[18 SPCS](https://www.space-track.org). Therefore, the mathematical models and the orbit determination precision\n",
    "all play a role in matching the values derived from the simplified analytical models presented here (and the\n",
    "orbital mechanics textbooks).\n",
    "\n",
    "\n",
    "The next step is to check the frozen orbit conditions. Orbit theory suggests that, for frozen orbit, the\n",
    "following conditions should apply:\n",
    "\n",
    "$$ \\text{eccentricity} = -\\frac{J_3 R_E \\sin{i} }{2 J_2 a} $$\n",
    "$$ \\text{argument of perigee} = \\omega =  90 \\deg $$\n",
    "\n",
    "We can easily check this with Sentinel-2A:"
   ],
   "metadata": {
    "collapsed": false
   }
  },
  {
   "cell_type": "code",
   "execution_count": 12,
   "outputs": [
    {
     "name": "stdout",
     "output_type": "stream",
     "text": [
      "ideal eccentricity : 0.0010318067048681323\n",
      "true eccentricity  : 0.0001206\n",
      "true arg of perigee : 86.9662 deg\n"
     ]
    }
   ],
   "source": [
    "import numpy as np\n",
    "from astropy import units as u\n",
    "\n",
    "a = tle.sm_axis\n",
    "e = tle.eccentricity\n",
    "i = tle.inclination\n",
    "j2 = 0.001082616\n",
    "j3 = -0.00000253881\n",
    "r_e = 6378.135 * u.km\n",
    "\n",
    "print(f\"ideal eccentricity : {-(j3 * r_e * np.sin(i)) / (2 * j2 * a)}\" )\n",
    "print(f\"true eccentricity  : {tle.eccentricity}\")\n",
    "print(f\"true arg of perigee : {tle.arg_perigee.to(u.deg)}\")"
   ],
   "metadata": {
    "collapsed": false,
    "pycharm": {
     "name": "#%%\n"
    }
   }
  },
  {
   "cell_type": "markdown",
   "source": [
    "Once again, the results are *close enough*, but not exactly the same. The same caveats apply as before.\n",
    "\n",
    "This example is limited to the basic uses of the `TLE` object, therefore more advanced analyses will not be\n",
    "shown."
   ],
   "metadata": {
    "collapsed": false,
    "pycharm": {
     "name": "#%% md\n"
    }
   }
  }
 ],
 "metadata": {
  "kernelspec": {
   "display_name": "Python 3",
   "language": "python",
   "name": "python3"
  },
  "language_info": {
   "codemirror_mode": {
    "name": "ipython",
    "version": 2
   },
   "file_extension": ".py",
   "mimetype": "text/x-python",
   "name": "python",
   "nbconvert_exporter": "python",
   "pygments_lexer": "ipython2",
   "version": "2.7.6"
  }
 },
 "nbformat": 4,
 "nbformat_minor": 0
}